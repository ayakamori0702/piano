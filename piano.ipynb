{
 "cells": [
  {
   "cell_type": "markdown",
   "metadata": {},
   "source": [
    "モジュールのインポート"
   ]
  },
  {
   "cell_type": "code",
   "execution_count": 2,
   "metadata": {},
   "outputs": [],
   "source": [
    "import pandas as pd\n",
    "import random \n",
    "import  os"
   ]
  },
  {
   "cell_type": "markdown",
   "metadata": {},
   "source": [
    "モードの選択"
   ]
  },
  {
   "cell_type": "code",
   "execution_count": 3,
   "metadata": {},
   "outputs": [
    {
     "name": "stdout",
     "output_type": "stream",
     "text": [
      "白まで:1  ピンクまで:2  茶色まで:3  番号を選んでください\n"
     ]
    }
   ],
   "source": [
    "START_PROMPT = \"白まで:1  ピンクまで:2  茶色まで:3  番号を選んでください\"\n",
    "ERROR_PROMPT = \"半角数値で入力してください\"\n",
    "print(START_PROMPT)\n",
    "user_choice = input('>>> ')"
   ]
  },
  {
   "cell_type": "code",
   "execution_count": 4,
   "metadata": {},
   "outputs": [],
   "source": [
    "try:\n",
    "    if user_choice == 1:\n",
    "        colors = ['R','Y','BL','BK','G','O','W']\n",
    "\n",
    "        df=pd.DataFrame({1:random.choices(colors,k=20)})\n",
    "        for i in range(2,46):    \n",
    "            df_add = pd.DataFrame({i:random.choices(colors,k=20)})\n",
    "            df = pd.concat([df, df_add], axis=1)\n",
    "            i+=1\n",
    "\n",
    "    elif user_choice == 2:\n",
    "        colors = ['R','Y','BL','BK','G','O','W','P']\n",
    "        df=pd.DataFrame({1:random.choices(colors,k=20)})\n",
    "        for i in range(2,46):    \n",
    "            df_add = pd.DataFrame({i:random.choices(colors,k=20)})\n",
    "            df = pd.concat([df, df_add], axis=1)\n",
    "            i+=1\n",
    "    else:\n",
    "        colors = ['R','Y','BL','BK','G','O','W','P','BR']\n",
    "        df=pd.DataFrame({1:random.choices(colors,k=20)})\n",
    "        for i in range(2,46):    \n",
    "            df_add = pd.DataFrame({i:random.choices(colors,k=20)})\n",
    "            df = pd.concat([df, df_add], axis=1)\n",
    "            i+=1\n",
    "\n",
    "except:\n",
    "   print(ERROR_PROMPT)"
   ]
  },
  {
   "cell_type": "markdown",
   "metadata": {},
   "source": [
    "ファイル出力"
   ]
  },
  {
   "cell_type": "code",
   "execution_count": 13,
   "metadata": {},
   "outputs": [],
   "source": [
    "output_dir = 'output'\n",
    "os.makedirs(output_dir, exist_ok=True) "
   ]
  },
  {
   "cell_type": "code",
   "execution_count": 14,
   "metadata": {},
   "outputs": [],
   "source": [
    "output_file = 'onkan.xlsx'\n",
    "df.to_excel(os.path.join(output_dir, output_file),index=False, header= None)"
   ]
  },
  {
   "cell_type": "code",
   "execution_count": null,
   "metadata": {},
   "outputs": [],
   "source": []
  }
 ],
 "metadata": {
  "interpreter": {
   "hash": "1822c21246436246064179f1c8b6decec3a53de5ec674e99c65ca5a5c94d35e2"
  },
  "kernelspec": {
   "display_name": "Python 3.9.7 ('base')",
   "language": "python",
   "name": "python3"
  },
  "language_info": {
   "codemirror_mode": {
    "name": "ipython",
    "version": 3
   },
   "file_extension": ".py",
   "mimetype": "text/x-python",
   "name": "python",
   "nbconvert_exporter": "python",
   "pygments_lexer": "ipython3",
   "version": "3.9.7"
  },
  "orig_nbformat": 4
 },
 "nbformat": 4,
 "nbformat_minor": 2
}
